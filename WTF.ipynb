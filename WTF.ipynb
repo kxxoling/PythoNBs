{
 "cells": [
  {
   "cell_type": "markdown",
   "metadata": {},
   "source": [
    "# Python WTF\n",
    "\n",
    "虽说 Python 是一个相对来说设计比较完善的编程语言，但是其中仍有许多让人费解甚至哭笑不得的地方。\n",
    "[Reddit 上](https://www.reddit.com/r/Python/comments/3cu6ej/what_are_some_wtf_things_about_python/)就有一个题为“Python WTF”的话题，这里搬运过来供大家引以为戒！"
   ]
  },
  {
   "cell_type": "markdown",
   "metadata": {},
   "source": [
    "## ``datatime.time`` 中的陷阱\n",
    "\n",
    "[ref-link](https://www.reddit.com/r/Python/comments/3cu6ej/what_are_some_wtf_things_about_python/csz47mj)"
   ]
  },
  {
   "cell_type": "code",
   "execution_count": 1,
   "metadata": {
    "collapsed": false,
    "scrolled": true
   },
   "outputs": [
    {
     "name": "stdout",
     "output_type": "stream",
     "text": [
      "mid_night represents False.\n",
      "noon represents True.\n"
     ]
    }
   ],
   "source": [
    "import datetime\n",
    "\n",
    "mid_night = datetime.time(0)\n",
    "noon = datetime.time(12)\n",
    "\n",
    "if mid_night:\n",
    "    print True\n",
    "else:\n",
    "    print 'mid_night represents False.'\n",
    "    \n",
    "if noon:\n",
    "    print 'noon represents True.'"
   ]
  },
  {
   "cell_type": "markdown",
   "metadata": {},
   "source": [
    "虽然很反直觉，但是一般并没有人实用 ``datetime.time`` 做真假校验吧？\n",
    "\n",
    "PS：[Python 3.5](https://docs.python.org/3.5/whatsnew/3.5.html )\n",
    "中已修正。\n",
    "\n",
    "Reddit 网友点评：\n",
    "\n",
    "![Who let the PHP design committee in here!?](images/datetime.png)"
   ]
  },
  {
   "cell_type": "markdown",
   "metadata": {},
   "source": [
    "## 257 是一个神奇的数字\n",
    "\n",
    "[ref-link](https://www.reddit.com/r/Python/comments/3cu6ej/what_are_some_wtf_things_about_python/csz0vwv)"
   ]
  },
  {
   "cell_type": "code",
   "execution_count": 2,
   "metadata": {
    "collapsed": false
   },
   "outputs": [
    {
     "name": "stdout",
     "output_type": "stream",
     "text": [
      "True\n",
      "False\n",
      "True\n"
     ]
    }
   ],
   "source": [
    "a = 256\n",
    "b = 256\n",
    "print a is b\n",
    "\n",
    "c = 257\n",
    "d = 257\n",
    "print c is d\n",
    "print c == d"
   ]
  },
  {
   "cell_type": "markdown",
   "metadata": {},
   "source": [
    "我们说 Python 中一切皆对象，所有数字、字符串、类、函数都是对象，而变量只是对象的引用。\n",
    "也许你还知道，在 Python 中 ``==`` 的实现取决于对象的魔术方法 ``__eq__`` ，\n",
    "而 ``is`` 是否正确取决于两个变量的内存地址是否相同，也就是说在上面的代码中，\n",
    "``c`` 和 ``d`` 的地址并不一致。"
   ]
  },
  {
   "cell_type": "code",
   "execution_count": 3,
   "metadata": {
    "collapsed": false
   },
   "outputs": [
    {
     "name": "stdout",
     "output_type": "stream",
     "text": [
      "4582841088\n",
      "4582841088\n",
      "140588812894040\n",
      "140588812894016\n",
      "4587313408\n",
      "4587314368\n"
     ]
    }
   ],
   "source": [
    "a = [1, 2, 3]\n",
    "print id(a)\n",
    "\n",
    "a.append(4)\n",
    "print id(a)\n",
    "\n",
    "a = 3\n",
    "print id(a)\n",
    "\n",
    "a = 4\n",
    "print id(a)\n",
    "\n",
    "a = 'kxxoling'\n",
    "print id(a)\n",
    "\n",
    "a = 'Kane'\n",
    "print id(a)"
   ]
  },
  {
   "cell_type": "markdown",
   "metadata": {},
   "source": [
    "实际上，可能是出于性能考虑，Python 中 -5 ~ 256 范围内的整数以及少部分字符串对象在程序启动时已经存在于内存中，并且不会 GC 被回收。\n",
    "因此，无论何时声明变量为其中的值，变量的指针都指向同一个内存地址。"
   ]
  },
  {
   "cell_type": "markdown",
   "metadata": {
    "collapsed": true
   },
   "source": [
    "PS：上面的问题只会在某些 REPL 环境下出现，我当前的 Python 版本是 2.7.10 （OS X 10.10）。"
   ]
  },
  {
   "cell_type": "markdown",
   "metadata": {},
   "source": [
    "## 循环中的函数定义\n",
    "\n",
    "作为一名 Python 程序员，虽然很喜欢 Python 的函数编程特性，但不得不承认 Python 对于函数式编程的支持甚至不如没有一类函数对象的 Ruby。\n",
    "对于函数式编程语言来说，惰性计算是一个非常重要的概念，而 Python 相对来说是一个非常“急性子”的编程语言。\n",
    "\n",
    "思考一下下面这段代码："
   ]
  },
  {
   "cell_type": "code",
   "execution_count": 4,
   "metadata": {
    "collapsed": false
   },
   "outputs": [
    {
     "name": "stdout",
     "output_type": "stream",
     "text": [
      "[512, 512, 512, 512, 512, 512, 512, 512, 512, 512]\n"
     ]
    }
   ],
   "source": [
    "func_list = [lambda x: x**i for i in range(10)]\n",
    "print [f(2) for f in func_list]"
   ]
  },
  {
   "cell_type": "markdown",
   "metadata": {},
   "source": [
    "实际上这段代码和下面这段是等效的："
   ]
  },
  {
   "cell_type": "code",
   "execution_count": 5,
   "metadata": {
    "collapsed": false
   },
   "outputs": [
    {
     "name": "stdout",
     "output_type": "stream",
     "text": [
      "9\n",
      "[512, 512, 512, 512, 512, 512, 512, 512, 512, 512]\n"
     ]
    }
   ],
   "source": [
    "func_list = []\n",
    "lamb = None\n",
    "i = 0\n",
    "lst = []\n",
    "for _ in range(10):\n",
    "    i = _\n",
    "    lst.append(i)\n",
    "\n",
    "print i\n",
    "for i_ in lst:\n",
    "    lamb = lambda x: x**i\n",
    "    func_list.append(lamb)\n",
    "\n",
    "result = []\n",
    "for f in func_list:\n",
    "    result.append(f(2))\n",
    "\n",
    "print result"
   ]
  },
  {
   "cell_type": "markdown",
   "metadata": {},
   "source": [
    "我们稍微修改一下看看："
   ]
  },
  {
   "cell_type": "code",
   "execution_count": 6,
   "metadata": {
    "collapsed": false
   },
   "outputs": [
    {
     "name": "stdout",
     "output_type": "stream",
     "text": [
      "[1, 2, 4, 8, 16, 32, 64, 128, 256, 512]\n"
     ]
    }
   ],
   "source": [
    "func_list = []\n",
    "lamb = None\n",
    "for i in range(10):\n",
    "    lamb = lambda x, i=i: x**i     # 注意这里最后一个 i，根本的变化是这里的 i 是函数的内部变量而非外部。\n",
    "    func_list.append(lamb)\n",
    "\n",
    "result = []\n",
    "for f in func_list:\n",
    "    result.append(f(2))\n",
    "\n",
    "print result"
   ]
  },
  {
   "cell_type": "markdown",
   "metadata": {},
   "source": [
    "结果已经和我们期待的一样了。"
   ]
  },
  {
   "cell_type": "markdown",
   "metadata": {},
   "source": [
    "## 元组解析\n",
    "\n",
    "Python 中这种语法被称为元组解析："
   ]
  },
  {
   "cell_type": "code",
   "execution_count": 7,
   "metadata": {
    "collapsed": true
   },
   "outputs": [],
   "source": [
    "a, b = (1, 2)\n",
    "\n",
    "(a, b) = (1, 2)\n",
    "[a, b] = (1, 2)\n",
    "[a, b] = [1, 2]"
   ]
  },
  {
   "cell_type": "markdown",
   "metadata": {},
   "source": [
    "不清楚元组解析的实现，\n",
    "[Reddit 网友](https://www.reddit.com/r/Python/comments/3cu6ej/what_are_some_wtf_things_about_python/csz218x)\n",
    "给出的解释是这样的："
   ]
  },
  {
   "cell_type": "code",
   "execution_count": 8,
   "metadata": {
    "collapsed": false
   },
   "outputs": [],
   "source": [
    "some_iterable = [1, 2]\n",
    "_iterator = iter(some_iterable)\n",
    "a = next(_iterator)\n",
    "b = next(_iterator)\n",
    "for superfluous_element in _iterator:\n",
    "    # this only happens if there’s something left\n",
    "    raise('Expected some_iterable to have 2 elements')"
   ]
  },
  {
   "cell_type": "markdown",
   "metadata": {},
   "source": [
    "因此我们可以写出这样无意义的代码："
   ]
  },
  {
   "cell_type": "code",
   "execution_count": 9,
   "metadata": {
    "collapsed": true
   },
   "outputs": [],
   "source": [
    "[] = ()"
   ]
  },
  {
   "cell_type": "markdown",
   "metadata": {},
   "source": [
    "但是等号左右反过来的话，Python 就不会将其当作元组解析对待了。"
   ]
  },
  {
   "cell_type": "markdown",
   "metadata": {},
   "source": [
    "# True is False == False ？\n",
    "\n",
    "看看下面的执行结果为什么不同："
   ]
  },
  {
   "cell_type": "code",
   "execution_count": 10,
   "metadata": {
    "collapsed": false
   },
   "outputs": [
    {
     "name": "stdout",
     "output_type": "stream",
     "text": [
      "False\n",
      "True\n",
      "True\n"
     ]
    }
   ],
   "source": [
    "print True is False == False\n",
    "print (True is False) == False\n",
    "print True is (False == False)"
   ]
  },
  {
   "cell_type": "markdown",
   "metadata": {},
   "source": [
    "第一行的代码必然是相当于第二行或者第三行？在 Python 的实现中并非如此："
   ]
  },
  {
   "cell_type": "code",
   "execution_count": 11,
   "metadata": {
    "collapsed": false
   },
   "outputs": [
    {
     "name": "stdout",
     "output_type": "stream",
     "text": [
      "  2           0 LOAD_GLOBAL              0 (True)\n",
      "              3 LOAD_GLOBAL              1 (False)\n",
      "              6 DUP_TOP             \n",
      "              7 ROT_THREE           \n",
      "              8 COMPARE_OP               8 (is)\n",
      "             11 JUMP_IF_FALSE_OR_POP    21\n",
      "             14 LOAD_GLOBAL              1 (False)\n",
      "             17 COMPARE_OP               2 (==)\n",
      "             20 RETURN_VALUE        \n",
      "        >>   21 ROT_TWO             \n",
      "             22 POP_TOP             \n",
      "             23 RETURN_VALUE        \n"
     ]
    }
   ],
   "source": [
    "import dis\n",
    "dis.dis(lambda: True is False == False)"
   ]
  },
  {
   "cell_type": "markdown",
   "metadata": {},
   "source": [
    "实际上 ``True is False == False`` 相当于 ``(True is False) and (False == False)`` ："
   ]
  },
  {
   "cell_type": "code",
   "execution_count": 12,
   "metadata": {
    "collapsed": false
   },
   "outputs": [
    {
     "data": {
      "text/plain": [
       "False"
      ]
     },
     "execution_count": 12,
     "metadata": {},
     "output_type": "execute_result"
    }
   ],
   "source": [
    "(True is False) and (False == False)"
   ]
  }
 ],
 "metadata": {
  "kernelspec": {
   "display_name": "Python 2",
   "language": "python",
   "name": "python2"
  },
  "language_info": {
   "codemirror_mode": {
    "name": "ipython",
    "version": 2
   },
   "file_extension": ".py",
   "mimetype": "text/x-python",
   "name": "python",
   "nbconvert_exporter": "python",
   "pygments_lexer": "ipython2",
   "version": "2.7.10"
  }
 },
 "nbformat": 4,
 "nbformat_minor": 0
}
